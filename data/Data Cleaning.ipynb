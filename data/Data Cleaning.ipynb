{
 "cells": [
  {
   "cell_type": "code",
   "execution_count": 1,
   "metadata": {},
   "outputs": [],
   "source": [
    "import pandas as pd\n",
    "import numpy as np\n",
    "\n",
    "# Reading in data\n",
    "responses = pd.read_csv(\"SurveyResponses.csv\")\n",
    "\n",
    "# Selecting questions related to our selected topic\n",
    "responses = responses.iloc[:, [1, 2, 3, 4, 7, 8, 11, 17, 18, 19, 22, 25, 29, 31, 32, 33, 53]]\n",
    "\n",
    "# Renaming columns/variables\n",
    "responses.columns = [\n",
    "                     \"className\",      # What class are you filling out this survey for? Select all that apply.\n",
    "                     \"classStanding\",  # What is your current class standing?\n",
    "                     \"isTransfer\",     # Are you a transfer student?\n",
    "                     \"major\",          # What is your major/minor? (If your major is not listed, please write it in \"Other..\")\n",
    "                     \"gpa\",            # What is your current cumulative GPA?\n",
    "                     \"age\",            # What is your age?\n",
    "                     \"gender\",         # What gender do you identify as?\n",
    "                     \"exerciseHrs\",    # How many hours of strenuous exercise do you do per week on average?\n",
    "                     \"gymVisits\",      # How many times do you go to the gym per week on average?\n",
    "                     \"mentalHealth\",   # Rate your overall mental health. (1-5, 5 being good)\n",
    "                     \"timeToSleep\",    # How long does it take for you to fall asleep?\n",
    "                     \"hrsSleep\",       # How many hours of sleep do you get on average during college?\n",
    "                     \"energyLevels\",   # On average, how would you describe your energy levels throughout the day? (1-5, 5 being high)\n",
    "                     \"caffeineFreq\",   # How often do you consume caffeinated beverages?\n",
    "                     \"caffeineType\",   # What types of caffeinated drink do you consume? Choose all that apply.\n",
    "                     \"caffeineIntake\", # What is your daily caffeinated drink intake?\\n(For reference, a \"small\" Red Bull is 8.4oz and \"medium\" Starbucks Grande is 16oz)\n",
    "                     \"units\"           # How many units are you registered for this quarter?\n",
    "                     ]\n",
    "\n",
    "# Replacing isTransfer Yes and No with 1 and 0\n",
    "responses[\"isTransfer\"] = responses[\"isTransfer\"].map({\"Yes\": 1, \"No\": 0})\n",
    "\n",
    "# Replacing instances of custom input with \"Other\"\n",
    "responses[\"major\"] = responses[\"major\"].apply(lambda x: x if x in [\"Data Science major\", \"CS major\", \"CSBA major\", \"CEN or EE major\", \"Mathematics major\"] else \"Other\")\n",
    "\n",
    "# Fixing typo in exerciseHrs\n",
    "responses[\"exerciseHrs\"] = responses[\"exerciseHrs\"].apply(lambda x: \"0 - 1 hours\" if x == \"0 -1 hours\" else x)\n",
    "\n",
    "# Replacing instances of custom input with NaN\n",
    "responses[\"caffeineFreq\"] = responses[\"caffeineFreq\"].apply(lambda x: x if x in [\"Once per day\", \"Once per week\", \"Multiple times per week\", \"I don't consume them at all\", \"Once per month\"] else np.nan)\n",
    "\n",
    "# Replacing NaN with None, and custom input with \"Other\"\n",
    "responses[\"caffeineType\"] = responses['caffeineType'].fillna('None')\n",
    "responses[\"caffeineType\"] = responses['caffeineType'].apply(lambda x: x if any(substring in x for substring in [\"Tea\", \"Coffee\", \"Energy drink\", \"None\"]) else \"Other\")\n",
    "\n",
    "# Replacing garbage values and replacing numbers with ranges\n",
    "responses[\"units\"] = [\"<12\" if x.isdigit() and int(x) < 12 else \">15\" if x.isdigit() and int(x) > 15 else \"12-15\" for x in responses[\"units\"]]\n",
    "\n",
    "responses.to_csv(\"CleanedResponses.csv\")"
   ]
  }
 ],
 "metadata": {
  "kernelspec": {
   "display_name": "base",
   "language": "python",
   "name": "python3"
  },
  "language_info": {
   "codemirror_mode": {
    "name": "ipython",
    "version": 3
   },
   "file_extension": ".py",
   "mimetype": "text/x-python",
   "name": "python",
   "nbconvert_exporter": "python",
   "pygments_lexer": "ipython3",
   "version": "3.12.4"
  }
 },
 "nbformat": 4,
 "nbformat_minor": 2
}

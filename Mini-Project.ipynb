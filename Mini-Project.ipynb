{
 "cells": [
  {
   "cell_type": "markdown",
   "metadata": {},
   "source": [
    "# CS105 Mini-Project\n",
    "\n",
    "For this project, we designed and conducted a survey targeting students from CS105, CS111, and CS010C classes to examine their caffeine consumption. Our objective was to gain insight into their daily habits, and to see if we could extrapolate any interesting conclusions from our data.\n",
    "\n",
    "## What is our data about?\n",
    "\n",
    "Our data focuses on students' caffeine consumption and its relationship to their lifestyle and health habits. It includes information on how frequently students consume caffeine, their preferred sources (such as coffee, energy drinks, or tea), and additional factors like sleep patterns, energy levels throughout the day, and other health-related behaviors. By analyzing this data, we aim to uncover connections between caffeine use and students' overall well-being, examining how it influences their sleep quality, daily energy levels, and possibly other health impacts.\n",
    "\n",
    "## What would we like to know about our data?\n",
    "\n",
    "We aim to learn how caffeine consumption affects students' daily routines, particularly regarding their sleep quality, energy levels, and overall health. By examining the frequency and sources of caffeine intake, along with lifestyle factors like sleep habits and other health behaviors, we hope to identify patterns that may reveal how caffeine influences students' physical and mental well-being. Additionally, we want to see if there are any notable trends among students in terms of their dependency on caffeine for focus and energy, helping us better understand the potential impacts of caffeine on their academic and personal lives."
   ]
  },
  {
   "cell_type": "markdown",
   "metadata": {},
   "source": [
    "## Data Exploration/Analysis"
   ]
  },
  {
   "cell_type": "code",
   "execution_count": 1,
   "metadata": {},
   "outputs": [],
   "source": [
    "import pandas as pd\n",
    "import matplotlib.pyplot as plt\n",
    "import numpy as np\n",
    "\n",
    "df = pd.read_csv(\"data/CleanedResponses.csv\")"
   ]
  },
  {
   "cell_type": "markdown",
   "metadata": {},
   "source": [
    "### FIXME: REPLACE WITH APPROPRIATE TITLE FOR TEST (SARBESH)"
   ]
  },
  {
   "cell_type": "code",
   "execution_count": 2,
   "metadata": {},
   "outputs": [],
   "source": [
    "# Sarbesh's portion (whatever test you'd like) bar plot"
   ]
  },
  {
   "cell_type": "markdown",
   "metadata": {},
   "source": [
    "### Is there a relationship between gender and preference for types of caffeinated beverages?"
   ]
  },
  {
   "cell_type": "markdown",
   "metadata": {},
   "source": [
    "We are interested in the relationship between gender and preference for types of caffeinated beverages. So we plan to conduct a chi-square test.\n",
    "\n",
    "Null hypothesis: two attributes, gender and type of caffeinated drink are independent.\n",
    "\n",
    "Alternative Hypothesis: two attributes, gender and type of caffeinated drink are correlated."
   ]
  },
  {
   "cell_type": "code",
   "execution_count": 3,
   "metadata": {},
   "outputs": [
    {
     "data": {
      "text/html": [
       "<div>\n",
       "<style scoped>\n",
       "    .dataframe tbody tr th:only-of-type {\n",
       "        vertical-align: middle;\n",
       "    }\n",
       "\n",
       "    .dataframe tbody tr th {\n",
       "        vertical-align: top;\n",
       "    }\n",
       "\n",
       "    .dataframe thead th {\n",
       "        text-align: right;\n",
       "    }\n",
       "</style>\n",
       "<table border=\"1\" class=\"dataframe\">\n",
       "  <thead>\n",
       "    <tr style=\"text-align: right;\">\n",
       "      <th>gender</th>\n",
       "      <th>Female</th>\n",
       "      <th>Male</th>\n",
       "      <th>Non-binary</th>\n",
       "      <th>Prefer not to say</th>\n",
       "      <th>Transfem</th>\n",
       "    </tr>\n",
       "    <tr>\n",
       "      <th>caffeineType</th>\n",
       "      <th></th>\n",
       "      <th></th>\n",
       "      <th></th>\n",
       "      <th></th>\n",
       "      <th></th>\n",
       "    </tr>\n",
       "  </thead>\n",
       "  <tbody>\n",
       "    <tr>\n",
       "      <th>Coffee</th>\n",
       "      <td>11</td>\n",
       "      <td>23</td>\n",
       "      <td>0</td>\n",
       "      <td>0</td>\n",
       "      <td>0</td>\n",
       "    </tr>\n",
       "    <tr>\n",
       "      <th>Coffee, Energy drink</th>\n",
       "      <td>4</td>\n",
       "      <td>14</td>\n",
       "      <td>0</td>\n",
       "      <td>0</td>\n",
       "      <td>0</td>\n",
       "    </tr>\n",
       "    <tr>\n",
       "      <th>Energy drink</th>\n",
       "      <td>5</td>\n",
       "      <td>19</td>\n",
       "      <td>0</td>\n",
       "      <td>0</td>\n",
       "      <td>0</td>\n",
       "    </tr>\n",
       "    <tr>\n",
       "      <th>Energy drink, Matcha</th>\n",
       "      <td>0</td>\n",
       "      <td>1</td>\n",
       "      <td>0</td>\n",
       "      <td>0</td>\n",
       "      <td>0</td>\n",
       "    </tr>\n",
       "    <tr>\n",
       "      <th>Energy drink, None</th>\n",
       "      <td>0</td>\n",
       "      <td>1</td>\n",
       "      <td>0</td>\n",
       "      <td>0</td>\n",
       "      <td>0</td>\n",
       "    </tr>\n",
       "    <tr>\n",
       "      <th>Energy drink, soda</th>\n",
       "      <td>0</td>\n",
       "      <td>0</td>\n",
       "      <td>1</td>\n",
       "      <td>0</td>\n",
       "      <td>0</td>\n",
       "    </tr>\n",
       "    <tr>\n",
       "      <th>None</th>\n",
       "      <td>12</td>\n",
       "      <td>45</td>\n",
       "      <td>0</td>\n",
       "      <td>3</td>\n",
       "      <td>0</td>\n",
       "    </tr>\n",
       "    <tr>\n",
       "      <th>Other</th>\n",
       "      <td>3</td>\n",
       "      <td>4</td>\n",
       "      <td>0</td>\n",
       "      <td>0</td>\n",
       "      <td>0</td>\n",
       "    </tr>\n",
       "    <tr>\n",
       "      <th>Tea</th>\n",
       "      <td>8</td>\n",
       "      <td>14</td>\n",
       "      <td>0</td>\n",
       "      <td>1</td>\n",
       "      <td>1</td>\n",
       "    </tr>\n",
       "    <tr>\n",
       "      <th>Tea, Coffee</th>\n",
       "      <td>14</td>\n",
       "      <td>12</td>\n",
       "      <td>1</td>\n",
       "      <td>0</td>\n",
       "      <td>0</td>\n",
       "    </tr>\n",
       "    <tr>\n",
       "      <th>Tea, Coffee, Energy drink</th>\n",
       "      <td>9</td>\n",
       "      <td>20</td>\n",
       "      <td>1</td>\n",
       "      <td>0</td>\n",
       "      <td>0</td>\n",
       "    </tr>\n",
       "    <tr>\n",
       "      <th>Tea, Coffee, Energy drink, that is when i do drink it from some reason (btw)</th>\n",
       "      <td>1</td>\n",
       "      <td>0</td>\n",
       "      <td>0</td>\n",
       "      <td>0</td>\n",
       "      <td>0</td>\n",
       "    </tr>\n",
       "    <tr>\n",
       "      <th>Tea, Energy drink</th>\n",
       "      <td>1</td>\n",
       "      <td>7</td>\n",
       "      <td>0</td>\n",
       "      <td>0</td>\n",
       "      <td>0</td>\n",
       "    </tr>\n",
       "    <tr>\n",
       "      <th>Tea, Energy drink, Soda</th>\n",
       "      <td>0</td>\n",
       "      <td>1</td>\n",
       "      <td>0</td>\n",
       "      <td>0</td>\n",
       "      <td>0</td>\n",
       "    </tr>\n",
       "    <tr>\n",
       "      <th>Tea, Matcha</th>\n",
       "      <td>0</td>\n",
       "      <td>1</td>\n",
       "      <td>0</td>\n",
       "      <td>0</td>\n",
       "      <td>0</td>\n",
       "    </tr>\n",
       "    <tr>\n",
       "      <th>Tea, pre-workout</th>\n",
       "      <td>0</td>\n",
       "      <td>1</td>\n",
       "      <td>0</td>\n",
       "      <td>0</td>\n",
       "      <td>0</td>\n",
       "    </tr>\n",
       "  </tbody>\n",
       "</table>\n",
       "</div>"
      ],
      "text/plain": [
       "gender                                              Female  Male  Non-binary  \\\n",
       "caffeineType                                                                   \n",
       "Coffee                                                  11    23           0   \n",
       "Coffee, Energy drink                                     4    14           0   \n",
       "Energy drink                                             5    19           0   \n",
       "Energy drink, Matcha                                     0     1           0   \n",
       "Energy drink, None                                       0     1           0   \n",
       "Energy drink, soda                                       0     0           1   \n",
       "None                                                    12    45           0   \n",
       "Other                                                    3     4           0   \n",
       "Tea                                                      8    14           0   \n",
       "Tea, Coffee                                             14    12           1   \n",
       "Tea, Coffee, Energy drink                                9    20           1   \n",
       "Tea, Coffee, Energy drink, that is when i do dr...       1     0           0   \n",
       "Tea, Energy drink                                        1     7           0   \n",
       "Tea, Energy drink, Soda                                  0     1           0   \n",
       "Tea, Matcha                                              0     1           0   \n",
       "Tea, pre-workout                                         0     1           0   \n",
       "\n",
       "gender                                              Prefer not to say  \\\n",
       "caffeineType                                                            \n",
       "Coffee                                                              0   \n",
       "Coffee, Energy drink                                                0   \n",
       "Energy drink                                                        0   \n",
       "Energy drink, Matcha                                                0   \n",
       "Energy drink, None                                                  0   \n",
       "Energy drink, soda                                                  0   \n",
       "None                                                                3   \n",
       "Other                                                               0   \n",
       "Tea                                                                 1   \n",
       "Tea, Coffee                                                         0   \n",
       "Tea, Coffee, Energy drink                                           0   \n",
       "Tea, Coffee, Energy drink, that is when i do dr...                  0   \n",
       "Tea, Energy drink                                                   0   \n",
       "Tea, Energy drink, Soda                                             0   \n",
       "Tea, Matcha                                                         0   \n",
       "Tea, pre-workout                                                    0   \n",
       "\n",
       "gender                                              Transfem  \n",
       "caffeineType                                                  \n",
       "Coffee                                                     0  \n",
       "Coffee, Energy drink                                       0  \n",
       "Energy drink                                               0  \n",
       "Energy drink, Matcha                                       0  \n",
       "Energy drink, None                                         0  \n",
       "Energy drink, soda                                         0  \n",
       "None                                                       0  \n",
       "Other                                                      0  \n",
       "Tea                                                        1  \n",
       "Tea, Coffee                                                0  \n",
       "Tea, Coffee, Energy drink                                  0  \n",
       "Tea, Coffee, Energy drink, that is when i do dr...         0  \n",
       "Tea, Energy drink                                          0  \n",
       "Tea, Energy drink, Soda                                    0  \n",
       "Tea, Matcha                                                0  \n",
       "Tea, pre-workout                                           0  "
      ]
     },
     "execution_count": 3,
     "metadata": {},
     "output_type": "execute_result"
    }
   ],
   "source": [
    "responses = df.copy()\n",
    "responses[\"caffeineType\"] = responses['caffeineType'].fillna('None')\n",
    "df_gender_type = responses[['gender', 'caffeineType']]\n",
    "type_gender = pd.crosstab(df_gender_type[\"caffeineType\"], df_gender_type[\"gender\"])\n",
    "type_gender"
   ]
  },
  {
   "cell_type": "code",
   "execution_count": 4,
   "metadata": {},
   "outputs": [
    {
     "name": "stdout",
     "output_type": "stream",
     "text": [
      "Calculated chi square value:  117.58993106742544\n",
      "Calculated p value:  1.2962884266012364e-05\n",
      "Degrees of freedom:  60\n"
     ]
    }
   ],
   "source": [
    "# calculate the chi-square value of the dataset\n",
    "from scipy.stats import chi2_contingency\n",
    "\n",
    "chi, p, dfree, expected = chi2_contingency(type_gender)\n",
    "\n",
    "print(\"Calculated chi square value: \", chi)\n",
    "print(\"Calculated p value: \", p)\n",
    "print(\"Degrees of freedom: \", dfree)"
   ]
  },
  {
   "cell_type": "code",
   "execution_count": 5,
   "metadata": {},
   "outputs": [
    {
     "name": "stdout",
     "output_type": "stream",
     "text": [
      "For 60 degrees of freedom, the chi-square value needed to reject the hypothesis at the 0.05 significance level:\n"
     ]
    },
    {
     "data": {
      "text/plain": [
       "np.float64(79.08194448784874)"
      ]
     },
     "execution_count": 5,
     "metadata": {},
     "output_type": "execute_result"
    }
   ],
   "source": [
    "# get the threshold to reject the hypothesis by certain significance value and the degree of the freedom.\n",
    "from scipy.stats import chi2\n",
    "print(\"For 60 degrees of freedom, the chi-square value needed to reject the hypothesis at the 0.05 significance level:\")\n",
    "chi2.ppf(0.95, 60)"
   ]
  },
  {
   "cell_type": "markdown",
   "metadata": {},
   "source": [
    "The chi-squared value we calculated is 117.59. The p value is 1.296. The degree of freedom is 60. We choose the significance level alpha to be 0.05. The critical value we calculated is 79.08\n",
    "\n",
    "Since the chi-squared value 117.59 is greater than the critical value 79.08, we reject the null hypothesis. This means that gender and type of caffeinated drink are correlated."
   ]
  },
  {
   "cell_type": "markdown",
   "metadata": {},
   "source": [
    "Now that we know there is a relationship between gender and preference for types of caffeinated beverages, we want to understand the nature of this relationship more deeply. So, we have created a heatmap."
   ]
  },
  {
   "cell_type": "code",
   "execution_count": 6,
   "metadata": {},
   "outputs": [
    {
     "data": {
      "image/png": "[encoded data removed]",
      "text/plain": [
       "<Figure size 640x480 with 2 Axes>"
      ]
     },
     "metadata": {},
     "output_type": "display_data"
    }
   ],
   "source": [
    "import seaborn as sns\n",
    "import matplotlib.pyplot as plt\n",
    "\n",
    "gender_type = pd.crosstab(df_gender_type[\"gender\"], df_gender_type[\"caffeineType\"])\n",
    "gender_type_cleaned = gender_type.copy()\n",
    "gender_type_cleaned[\"Coffee\"] = gender_type_cleaned[\"Coffee\"] + gender_type_cleaned[\"Coffee, Energy drink\"] + gender_type_cleaned[\"Tea, Coffee\"] + gender_type_cleaned[\"Tea, Coffee, Energy drink\"] + gender_type_cleaned[\"Tea, Coffee, Energy drink, that is when i do drink it from some reason (btw)\"]\n",
    "gender_type_cleaned[\"Tea\"] = gender_type_cleaned[\"Tea\"] + gender_type_cleaned[\"Tea, Coffee\"] + gender_type_cleaned[\"Tea, Coffee, Energy drink\"] + gender_type_cleaned[\"Tea, Coffee, Energy drink, that is when i do drink it from some reason (btw)\"] + gender_type_cleaned[\"Tea, Energy drink\"] + gender_type_cleaned[\"Tea, Energy drink, Soda\"] + gender_type_cleaned[\"Tea, Matcha\"] + gender_type_cleaned[\"Tea, pre-workout\"]\n",
    "gender_type_cleaned[\"Energy drink\"] = gender_type_cleaned[\"Energy drink\"] + gender_type_cleaned[\"Coffee, Energy drink\"] + gender_type_cleaned[\"Energy drink, Matcha\"] + gender_type_cleaned[\"Energy drink, None\"] + gender_type_cleaned[\"Energy drink, soda\"] + gender_type_cleaned[\"Tea, Coffee, Energy drink\"] + gender_type_cleaned[\"Tea, Coffee, Energy drink, that is when i do drink it from some reason (btw)\"] + gender_type_cleaned[\"Tea, Energy drink\"] + gender_type_cleaned[\"Tea, Energy drink, Soda\"]\n",
    "gender_type_cleaned[\"Soda\"] = gender_type_cleaned[\"Energy drink, soda\"] + gender_type_cleaned[\"Tea, Energy drink, Soda\"]\n",
    "gender_type_cleaned[\"Matcha\"] = gender_type_cleaned[\"Energy drink, Matcha\"] + gender_type_cleaned[\"Tea, Matcha\"]\n",
    "gender_type_cleaned = gender_type_cleaned[[\"Coffee\", \"Tea\", \"Energy drink\", \"Soda\", \"Matcha\", \"None\", \"Other\"]]\n",
    "gender_type_cleaned\n",
    "\n",
    "sns.heatmap(gender_type_cleaned, center= 0, cmap = \"coolwarm\",annot= True)\n",
    "plt.show()"
   ]
  },
  {
   "cell_type": "markdown",
   "metadata": {},
   "source": [
    "This heatmap displays the distribution of caffeine preferences among different gender identities. We see that male participants who do not consume any types of caffeinated drink were by far the most common. We can also observe that consuming coffee alone and consuming both tea, coffee, and energy drinks, are popular choices among male participants. For female participants, popular options include consuming coffee alone, not consuming any caffeine, and consuming both tea and coffee."
   ]
  },
  {
   "cell_type": "markdown",
   "metadata": {},
   "source": [
    "Going further, we want to know if one gender prefers a certain type of caffeinated beverage more than the other gender. So, we have created a stacked bar chart. We extracted the types of caffeinated beverages from the mixed-type options and added them to their corresponding categories."
   ]
  },
  {
   "cell_type": "code",
   "execution_count": 7,
   "metadata": {},
   "outputs": [
    {
     "data": {
      "text/html": [
       "<div>\n",
       "<style scoped>\n",
       "    .dataframe tbody tr th:only-of-type {\n",
       "        vertical-align: middle;\n",
       "    }\n",
       "\n",
       "    .dataframe tbody tr th {\n",
       "        vertical-align: top;\n",
       "    }\n",
       "\n",
       "    .dataframe thead th {\n",
       "        text-align: right;\n",
       "    }\n",
       "</style>\n",
       "<table border=\"1\" class=\"dataframe\">\n",
       "  <thead>\n",
       "    <tr style=\"text-align: right;\">\n",
       "      <th>caffeineType</th>\n",
       "      <th>Coffee</th>\n",
       "      <th>Tea</th>\n",
       "      <th>Energy drink</th>\n",
       "      <th>Soda</th>\n",
       "      <th>Matcha</th>\n",
       "      <th>None</th>\n",
       "      <th>Other</th>\n",
       "    </tr>\n",
       "    <tr>\n",
       "      <th>gender</th>\n",
       "      <th></th>\n",
       "      <th></th>\n",
       "      <th></th>\n",
       "      <th></th>\n",
       "      <th></th>\n",
       "      <th></th>\n",
       "      <th></th>\n",
       "    </tr>\n",
       "  </thead>\n",
       "  <tbody>\n",
       "    <tr>\n",
       "      <th>Female</th>\n",
       "      <td>0.364486</td>\n",
       "      <td>0.308411</td>\n",
       "      <td>0.186916</td>\n",
       "      <td>0.000000</td>\n",
       "      <td>0.000000</td>\n",
       "      <td>0.11215</td>\n",
       "      <td>0.028037</td>\n",
       "    </tr>\n",
       "    <tr>\n",
       "      <th>Male</th>\n",
       "      <td>0.287500</td>\n",
       "      <td>0.233333</td>\n",
       "      <td>0.262500</td>\n",
       "      <td>0.004167</td>\n",
       "      <td>0.008333</td>\n",
       "      <td>0.18750</td>\n",
       "      <td>0.016667</td>\n",
       "    </tr>\n",
       "    <tr>\n",
       "      <th>Non-binary</th>\n",
       "      <td>0.285714</td>\n",
       "      <td>0.285714</td>\n",
       "      <td>0.285714</td>\n",
       "      <td>0.142857</td>\n",
       "      <td>0.000000</td>\n",
       "      <td>0.00000</td>\n",
       "      <td>0.000000</td>\n",
       "    </tr>\n",
       "    <tr>\n",
       "      <th>Prefer not to say</th>\n",
       "      <td>0.000000</td>\n",
       "      <td>0.250000</td>\n",
       "      <td>0.000000</td>\n",
       "      <td>0.000000</td>\n",
       "      <td>0.000000</td>\n",
       "      <td>0.75000</td>\n",
       "      <td>0.000000</td>\n",
       "    </tr>\n",
       "    <tr>\n",
       "      <th>Transfem</th>\n",
       "      <td>0.000000</td>\n",
       "      <td>1.000000</td>\n",
       "      <td>0.000000</td>\n",
       "      <td>0.000000</td>\n",
       "      <td>0.000000</td>\n",
       "      <td>0.00000</td>\n",
       "      <td>0.000000</td>\n",
       "    </tr>\n",
       "  </tbody>\n",
       "</table>\n",
       "</div>"
      ],
      "text/plain": [
       "caffeineType         Coffee       Tea  Energy drink      Soda    Matcha  \\\n",
       "gender                                                                    \n",
       "Female             0.364486  0.308411      0.186916  0.000000  0.000000   \n",
       "Male               0.287500  0.233333      0.262500  0.004167  0.008333   \n",
       "Non-binary         0.285714  0.285714      0.285714  0.142857  0.000000   \n",
       "Prefer not to say  0.000000  0.250000      0.000000  0.000000  0.000000   \n",
       "Transfem           0.000000  1.000000      0.000000  0.000000  0.000000   \n",
       "\n",
       "caffeineType          None     Other  \n",
       "gender                                \n",
       "Female             0.11215  0.028037  \n",
       "Male               0.18750  0.016667  \n",
       "Non-binary         0.00000  0.000000  \n",
       "Prefer not to say  0.75000  0.000000  \n",
       "Transfem           0.00000  0.000000  "
      ]
     },
     "execution_count": 7,
     "metadata": {},
     "output_type": "execute_result"
    }
   ],
   "source": [
    "gender_counts = gender_type_cleaned.sum(axis=1)\n",
    "type_given_gender = gender_type_cleaned.divide(gender_counts, axis=0)\n",
    "type_given_gender"
   ]
  },
  {
   "cell_type": "code",
   "execution_count": 8,
   "metadata": {},
   "outputs": [
    {
     "data": {
      "text/plain": [
       "<Axes: xlabel='gender'>"
      ]
     },
     "execution_count": 8,
     "metadata": {},
     "output_type": "execute_result"
    },
    {
     "data": {
      "image/png": "[encoded data removed]",
      "text/plain": [
       "<Figure size 640x480 with 1 Axes>"
      ]
     },
     "metadata": {},
     "output_type": "display_data"
    }
   ],
   "source": [
    "type_given_gender.plot.bar(stacked=True)"
   ]
  },
  {
   "cell_type": "markdown",
   "metadata": {},
   "source": [
    "This graph displays the conditional distribution of the type of caffeinated drink, given the gender. From this, we can see that different genders have different preferences for types of caffeinated beverages. We observe that female participants have a higher proportion of consuming coffee and tea compared to male participants. Conversely, male participants have a higher proportion of consuming energy drinks and not consuming any caffeine compared to female participants. We can conclude that female participants tend to prefer consuming caffeinated beverages, particularly coffee and tea, while male participants show a greater preference for consuming energy drinks than female participants."
   ]
  },
  {
   "cell_type": "markdown",
   "metadata": {},
   "source": [
    "### FIXME: REPLACE WITH APPROPRIATE TITLE FOR TEST (JOEL)"
   ]
  },
  {
   "cell_type": "code",
   "execution_count": 9,
   "metadata": {},
   "outputs": [],
   "source": [
    "# Joel's portion (correlation analysis) scatterplot"
   ]
  },
  {
   "cell_type": "markdown",
   "metadata": {},
   "source": [
    "### FIXME: REPLACE WITH APPROPRIATE TITLE FOR TEST (SARAH)"
   ]
  },
  {
   "cell_type": "code",
   "execution_count": 10,
   "metadata": {},
   "outputs": [],
   "source": [
    "# Sarah's portion (whatever test you'd like)"
   ]
  },
  {
   "cell_type": "markdown",
   "metadata": {},
   "source": [
    "## Conclusions\n",
    "\n",
    "THIS IS FOR RICHARD"
   ]
  }
 ],
 "metadata": {
  "kernelspec": {
   "display_name": "Python 3",
   "language": "python",
   "name": "python3"
  },
  "language_info": {
   "codemirror_mode": {
    "name": "ipython",
    "version": 3
   },
   "file_extension": ".py",
   "mimetype": "text/x-python",
   "name": "python",
   "nbconvert_exporter": "python",
   "pygments_lexer": "ipython3",
   "version": "3.12.6"
  }
 },
 "nbformat": 4,
 "nbformat_minor": 2
}

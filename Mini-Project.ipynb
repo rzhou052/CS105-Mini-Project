{
 "cells": [
  {
   "cell_type": "markdown",
   "metadata": {},
   "source": [
    "# CS105 Mini-Project\n",
    "\n",
    "For this project, we designed and conducted a survey targeting students from CS105, CS111, and CS010C classes to examine their caffeine consumption. Our objective was to gain insight into their daily habits, and to see if we could extrapolate any interesting conclusions from our data.\n",
    "\n",
    "## What is our data about?\n",
    "\n",
    "Our data focuses on students' caffeine consumption and its relationship to their lifestyle and health habits. It includes information on how frequently students consume caffeine, their preferred sources (such as coffee, energy drinks, or tea), and additional factors like sleep patterns, energy levels throughout the day, and other health-related behaviors. By analyzing this data, we aim to uncover connections between caffeine use and students' overall well-being, examining how it influences their sleep quality, daily energy levels, and possibly other health impacts.\n",
    "\n",
    "## What would we like to know about our data?\n",
    "\n",
    "We aim to learn how caffeine consumption affects students' daily routines, particularly regarding their sleep quality, energy levels, and overall health. By examining the frequency and sources of caffeine intake, along with lifestyle factors like sleep habits and other health behaviors, we hope to identify patterns that may reveal how caffeine influences students' physical and mental well-being. Additionally, we want to see if there are any notable trends among students in terms of their dependency on caffeine for focus and energy, helping us better understand the potential impacts of caffeine on their academic and personal lives."
   ]
  },
  {
   "cell_type": "markdown",
   "metadata": {},
   "source": [
    "## Data Exploration/Analysis"
   ]
  },
  {
   "cell_type": "code",
   "execution_count": 69,
   "metadata": {},
   "outputs": [],
   "source": [
    "import pandas as pd\n",
    "import matplotlib.pyplot as plt\n",
    "import numpy as np\n",
    "\n",
    "df = pd.read_csv(\"data/CleanedResponses.csv\")"
   ]
  },
  {
   "cell_type": "markdown",
   "metadata": {},
   "source": [
    "### FIXME: REPLACE WITH APPROPRIATE TITLE FOR TEST (SARBESH)"
   ]
  },
  {
   "cell_type": "code",
   "execution_count": 70,
   "metadata": {},
   "outputs": [],
   "source": [
    "# Sarbesh's portion (whatever test you'd like) bar plot"
   ]
  },
  {
   "cell_type": "markdown",
   "metadata": {},
   "source": [
    "### FIXME: REPLACE WITH APPROPRIATE TITLE FOR TEST (ZIFENG)"
   ]
  },
  {
   "cell_type": "code",
   "execution_count": 71,
   "metadata": {},
   "outputs": [],
   "source": [
    "# Zifeng's portion (chi-squared test) heat map"
   ]
  },
  {
   "cell_type": "markdown",
   "metadata": {},
   "source": [
    "We are interested in the relationship between gender and preference for types of caffeinated beverages. So we plan to conduct a chi-square test.\n",
    "\n",
    "Null hypothesis: two attributes, gender and type of caffeinated drink are independent.\n",
    "\n",
    "Alternative Hypothesis: two attributes, gender and type of caffeinated drink are correlated."
   ]
  },
  {
   "cell_type": "code",
   "execution_count": null,
   "metadata": {},
   "outputs": [],
   "source": [
    "df_gender_type = df.iloc[:, [6, 14]]\n",
    "type_gender = pd.crosstab(df_gender_type[\"caffeineType\"], df_gender_type[\"gender\"])\n",
    "type_gender"
   ]
  },
  {
   "cell_type": "markdown",
   "metadata": {},
   "source": [
    "### FIXME: REPLACE WITH APPROPRIATE TITLE FOR TEST (JOEL)"
   ]
  },
  {
   "cell_type": "code",
   "execution_count": null,
   "metadata": {},
   "outputs": [],
   "source": [
    "# calculate the chi-square value of the dataset\n",
    "from scipy.stats import chi2_contingency\n",
    "\n",
    "chi, p, dfree, expected = chi2_contingency(type_gender)\n",
    "\n",
    "print(\"calculated chi square value: \", chi)\n",
    "print(\"calculated p value: \", p)\n",
    "print(\"degree of freedom: \", dfree)"
   ]
  },
  {
   "cell_type": "code",
   "execution_count": null,
   "metadata": {},
   "outputs": [],
   "source": [
    "# get the threshold to reject the hypothesis by certain significance value and the degree of the freedom.\n",
    "from scipy.stats import chi2\n",
    "print(\"for 60 degree of freedom, the chi-square value needed to reject the hypothesis at the 0.05 significance level:\")\n",
    "chi2.ppf(0.95, 60)"
   ]
  },
  {
   "cell_type": "markdown",
   "metadata": {},
   "source": [
    "The chi-squared value we calculated is 117.59. The p value is 1.296. The degree of freedom is 60. We choose the significance level alpha to be 0.05. The critical value we calculated is 79.08\n",
    "\n",
    "Since the chi-squared value 117.59 is greater than the critical value 79.08, we reject the null hypothesis. This means that gender and type of caffeinated drink are correlated."
   ]
  },
  {
   "cell_type": "markdown",
   "metadata": {},
   "source": [
    "Now that we know there is a relationship between gender and preference for types of caffeinated beverages, we want to understand the nature of this relationship more deeply. So, we have created a heatmap."
   ]
  },
  {
   "cell_type": "code",
   "execution_count": null,
   "metadata": {},
   "outputs": [],
   "source": [
    "import seaborn as sns\n",
    "import matplotlib.pyplot as plt\n",
    "\n",
    "sns.heatmap(type_gender, center= 0, cmap = \"coolwarm\",annot= True)\n",
    "plt.show()"
   ]
  },
  {
   "cell_type": "markdown",
   "metadata": {},
   "source": [
    "This heatmap displays the distribution of caffeine preferences among different gender identities. We see that male participants who do not consume any types of caffeinated drink were by far the most common. We can also observe that consuming coffee alone and consuming both tea, coffee, and energy drinks, are popular choices among male participants. For female participants, popular options include consuming coffee alone, not consuming any caffeine, and consuming both tea and coffee."
   ]
  },
  {
   "cell_type": "markdown",
   "metadata": {},
   "source": [
    "Going further, we want to know if one gender prefers a certain type of caffeinated beverage more than the other gender. So, we have created a stacked bar chart. We extracted the types of caffeinated beverages from the mixed-type options and added them to their corresponding categories."
   ]
  },
  {
   "cell_type": "code",
   "execution_count": null,
   "metadata": {},
   "outputs": [],
   "source": [
    "gender_type = pd.crosstab(df_gender_type[\"gender\"], df_gender_type[\"caffeineType\"])\n",
    "gender_type_cleaned = gender_type.copy()\n",
    "gender_type_cleaned[\"Coffee\"] = gender_type_cleaned[\"Coffee\"] + gender_type_cleaned[\"Coffee, Energy drink\"] + gender_type_cleaned[\"Tea, Coffee\"] + gender_type_cleaned[\"Tea, Coffee, Energy drink\"] + gender_type_cleaned[\"Tea, Coffee, Energy drink, that is when i do drink it from some reason (btw)\"]\n",
    "gender_type_cleaned[\"Tea\"] = gender_type_cleaned[\"Tea\"] + gender_type_cleaned[\"Tea, Coffee\"] + gender_type_cleaned[\"Tea, Coffee, Energy drink\"] + gender_type_cleaned[\"Tea, Coffee, Energy drink, that is when i do drink it from some reason (btw)\"] + gender_type_cleaned[\"Tea, Energy drink\"] + gender_type_cleaned[\"Tea, Energy drink, Soda\"] + gender_type_cleaned[\"Tea, Matcha\"] + gender_type_cleaned[\"Tea, pre-workout\"]\n",
    "gender_type_cleaned[\"Energy drink\"] = gender_type_cleaned[\"Energy drink\"] + gender_type_cleaned[\"Coffee, Energy drink\"] + gender_type_cleaned[\"Energy drink, Matcha\"] + gender_type_cleaned[\"Energy drink, None\"] + gender_type_cleaned[\"Energy drink, soda\"] + gender_type_cleaned[\"Tea, Coffee, Energy drink\"] + gender_type_cleaned[\"Tea, Coffee, Energy drink, that is when i do drink it from some reason (btw)\"] + gender_type_cleaned[\"Tea, Energy drink\"] + gender_type_cleaned[\"Tea, Energy drink, Soda\"]\n",
    "gender_type_cleaned[\"Soda\"] = gender_type_cleaned[\"Energy drink, soda\"] + gender_type_cleaned[\"Tea, Energy drink, Soda\"]\n",
    "gender_type_cleaned[\"Matcha\"] = gender_type_cleaned[\"Energy drink, Matcha\"] + gender_type_cleaned[\"Tea, Matcha\"]\n",
    "gender_type_cleaned = gender_type_cleaned[[\"Coffee\", \"Tea\", \"Energy drink\", \"Soda\", \"Matcha\", \"None\", \"Other\"]]\n",
    "gender_type_cleaned"
   ]
  },
  {
   "cell_type": "code",
   "execution_count": null,
   "metadata": {},
   "outputs": [],
   "source": [
    "gender_counts = gender_type_cleaned.sum(axis=1)\n",
    "type_given_gender = gender_type_cleaned.divide(gender_counts, axis=0)\n",
    "type_given_gender"
   ]
  },
  {
   "cell_type": "code",
   "execution_count": null,
   "metadata": {},
   "outputs": [],
   "source": [
    "type_given_gender.plot.bar(stacked=True)"
   ]
  },
  {
   "cell_type": "markdown",
   "metadata": {},
   "source": [
    "This graph displays the conditional distribution of the type of caffeinated drink, given the gender. From this, we can see that different genders have different preferences for types of caffeinated beverages. We observe that female participants have a higher proportion of consuming coffee and tea compared to male participants. Conversely, male participants have a higher proportion of consuming energy drinks and not consuming any caffeine compared to female participants. We can conclude that female participants tend to prefer consuming caffeinated beverages, particularly coffee and tea, while male participants show a greater preference for consuming energy drinks than female participants."
   ]
  },
  {
   "cell_type": "code",
   "execution_count": 72,
   "metadata": {},
   "outputs": [],
   "source": [
    "# Joel's portion (correlation analysis) scatterplot"
   ]
  },
  {
   "cell_type": "markdown",
   "metadata": {},
   "source": [
    "### FIXME: REPLACE WITH APPROPRIATE TITLE FOR TEST (SARAH)"
   ]
  },
  {
   "cell_type": "code",
   "execution_count": 73,
   "metadata": {},
   "outputs": [],
   "source": [
    "# Sarah's portion (whatever test you'd like)"
   ]
  },
  {
   "cell_type": "markdown",
   "metadata": {},
   "source": [
    "## Conclusions\n",
    "\n",
    "THIS IS FOR RICHARD"
   ]
  }
 ],
 "metadata": {
  "language_info": {
   "name": "python"
  }
 },
 "nbformat": 4,
 "nbformat_minor": 2
}
